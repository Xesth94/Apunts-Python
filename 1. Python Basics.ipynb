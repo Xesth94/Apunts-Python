{
 "cells": [
  {
   "cell_type": "markdown",
   "id": "d6179a61",
   "metadata": {},
   "source": [
    "# Python Basics"
   ]
  },
  {
   "cell_type": "markdown",
   "id": "0b23fdc1-5cfa-4d4c-ad92-7cd2f389f3e8",
   "metadata": {},
   "source": [
    "#### Python have different data **types**: integers (int), floats (float), words (str) and Booleans (True/False or 1/0)"
   ]
  },
  {
   "cell_type": "code",
   "execution_count": 29,
   "id": "5548e338-df4d-42c9-9f2d-f9e5f8cd5621",
   "metadata": {},
   "outputs": [
    {
     "name": "stdout",
     "output_type": "stream",
     "text": [
      "<class 'int'>\n",
      "<class 'float'>\n",
      "<class 'str'>\n",
      "<class 'bool'>\n"
     ]
    }
   ],
   "source": [
    "print(type(2))\n",
    "print(type(2.1))\n",
    "print(type(\"hola\"))\n",
    "print(type(True))"
   ]
  },
  {
   "cell_type": "markdown",
   "id": "b68e7659-e642-4207-9216-bb0336de7531",
   "metadata": {},
   "source": [
    "<a align=\"center\">\n",
    "    <img src=\"https://cf-courses-data.s3.us.cloud-object-storage.appdomain.cloud/IBMDeveloperSkillsNetwork-PY0101EN-SkillsNetwork/labs/Module%201/images/TypesObjects.png\" width=\"600\">\n",
    "</a>"
   ]
  },
  {
   "cell_type": "markdown",
   "id": "b197c6e7-bcd2-4221-8021-15f06ac82376",
   "metadata": {},
   "source": [
    "You can change the type of the expression in Python. Converting integers to floats or viceversa.\n",
    "If you cast a float to integer, the conversion truncates towards zero. Also, you can convert an int or float to str."
   ]
  },
  {
   "cell_type": "code",
   "execution_count": 30,
   "id": "5c64ae01-6ca7-4b78-80bd-53d9662ef259",
   "metadata": {},
   "outputs": [
    {
     "name": "stdout",
     "output_type": "stream",
     "text": [
      "2.0\n",
      "1\n",
      "1\n",
      "1\n",
      "1\n",
      "4.5\n",
      "1\n",
      "False\n"
     ]
    }
   ],
   "source": [
    "print(float(2))\n",
    "print(int(1.1))\n",
    "print(int(1.9))\n",
    "print(int('1'))\n",
    "print(str(1))\n",
    "print(str(4.5))\n",
    "\n",
    "#Convert Boolean to integer and viceversa\n",
    "print(int(True))\n",
    "print(bool(0))"
   ]
  },
  {
   "cell_type": "markdown",
   "id": "1f798d76-9730-4f3c-85e0-4607d17403ed",
   "metadata": {},
   "source": [
    "##### **Expressions** describe a type of operation the computer perform. For example: \n",
    "- Basic arithmetic operations. Numbers are operands and symbols are operators"
   ]
  },
  {
   "cell_type": "markdown",
   "id": "997a7a99-c237-409f-ac12-4d33dfcf19a9",
   "metadata": {},
   "source": [
    "In Python 3.0, the operation 5/2 will give a float. 5//2 give an integer."
   ]
  },
  {
   "cell_type": "markdown",
   "id": "0f9575b1-e49f-4d04-97f2-e7eb09fb8c5c",
   "metadata": {},
   "source": [
    "##### **Variables** can be used to store values or strings."
   ]
  },
  {
   "cell_type": "markdown",
   "id": "3901c260-e146-4ffa-9b70-5547761a4e34",
   "metadata": {},
   "source": [
    "<hr/>\n",
    "<div class=\"alert alert-success alertsuccess\" style=\"margin-top: 20px\">\n",
    "    [Tip:] <code>sys</code> is a built-in module that contains many system-specific parameters and functions, including the Python version in use. Before using it, we must explictly <code>import</code> it.\n",
    "</div>"
   ]
  },
  {
   "cell_type": "code",
   "execution_count": 31,
   "id": "38d05a40-c130-44b0-83fc-3f0f02e8e394",
   "metadata": {},
   "outputs": [
    {
     "name": "stdout",
     "output_type": "stream",
     "text": [
      "3.10.9 | packaged by Anaconda, Inc. | (main, Mar  1 2023, 18:18:15) [MSC v.1916 64 bit (AMD64)]\n"
     ]
    }
   ],
   "source": [
    "# Check the Python Version\n",
    "\n",
    "import sys\n",
    "print(sys.version)"
   ]
  },
  {
   "cell_type": "markdown",
   "id": "0d0aada3-55f7-45a1-bc10-c3a29c408e29",
   "metadata": {},
   "source": [
    "<hr/>"
   ]
  },
  {
   "cell_type": "markdown",
   "id": "454a340d-93a2-4ac6-a3e9-38e58d343b0b",
   "metadata": {},
   "source": [
    "##### "
   ]
  }
 ],
 "metadata": {
  "kernelspec": {
   "display_name": "Python 3 (ipykernel)",
   "language": "python",
   "name": "python3"
  },
  "language_info": {
   "codemirror_mode": {
    "name": "ipython",
    "version": 3
   },
   "file_extension": ".py",
   "mimetype": "text/x-python",
   "name": "python",
   "nbconvert_exporter": "python",
   "pygments_lexer": "ipython3",
   "version": "3.10.9"
  },
  "toc-showmarkdowntxt": false,
  "toc-showtags": false
 },
 "nbformat": 4,
 "nbformat_minor": 5
}
