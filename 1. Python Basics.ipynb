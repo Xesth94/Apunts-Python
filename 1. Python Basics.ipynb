{
 "cells": [
  {
   "cell_type": "markdown",
   "id": "d6179a61",
   "metadata": {},
   "source": [
    "# Python Basics"
   ]
  },
  {
   "cell_type": "markdown",
   "id": "0b23fdc1-5cfa-4d4c-ad92-7cd2f389f3e8",
   "metadata": {},
   "source": [
    "#### Python have different data **types**: integers (int), floats (float), words (str) and Booleans (True/False or 1/0)"
   ]
  },
  {
   "cell_type": "code",
   "execution_count": 29,
   "id": "5548e338-df4d-42c9-9f2d-f9e5f8cd5621",
   "metadata": {},
   "outputs": [
    {
     "name": "stdout",
     "output_type": "stream",
     "text": [
      "<class 'int'>\n",
      "<class 'float'>\n",
      "<class 'str'>\n",
      "<class 'bool'>\n"
     ]
    }
   ],
   "source": [
    "print(type(2))\n",
    "print(type(2.1))\n",
    "print(type(\"hola\"))\n",
    "print(type(True))"
   ]
  },
  {
   "cell_type": "markdown",
   "id": "b68e7659-e642-4207-9216-bb0336de7531",
   "metadata": {},
   "source": [
    "<a align=\"center\">\n",
    "    <img src=\"https://cf-courses-data.s3.us.cloud-object-storage.appdomain.cloud/IBMDeveloperSkillsNetwork-PY0101EN-SkillsNetwork/labs/Module%201/images/TypesObjects.png\" width=\"600\">\n",
    "</a>"
   ]
  },
  {
   "cell_type": "markdown",
   "id": "b197c6e7-bcd2-4221-8021-15f06ac82376",
   "metadata": {},
   "source": [
    "You can change the type of the expression in Python. Converting integers to floats or viceversa.\n",
    "If you cast a float to integer, the conversion truncates towards zero. Also, you can convert an int or float to str."
   ]
  },
  {
   "cell_type": "code",
   "execution_count": 30,
   "id": "5c64ae01-6ca7-4b78-80bd-53d9662ef259",
   "metadata": {},
   "outputs": [
    {
     "name": "stdout",
     "output_type": "stream",
     "text": [
      "2.0\n",
      "1\n",
      "1\n",
      "1\n",
      "1\n",
      "4.5\n",
      "1\n",
      "False\n"
     ]
    }
   ],
   "source": [
    "print(float(2))\n",
    "print(int(1.1))\n",
    "print(int(1.9))\n",
    "print(int('1'))\n",
    "print(str(1))\n",
    "print(str(4.5))\n",
    "\n",
    "#Convert Boolean to integer and viceversa\n",
    "print(int(True))\n",
    "print(bool(0))"
   ]
  },
  {
   "cell_type": "markdown",
   "id": "1f798d76-9730-4f3c-85e0-4607d17403ed",
   "metadata": {},
   "source": [
    "* #### **Expressions** describe a type of operation the computer perform. "
   ]
  },
  {
   "cell_type": "markdown",
   "id": "997a7a99-c237-409f-ac12-4d33dfcf19a9",
   "metadata": {},
   "source": [
    "An example of expressions are basic arithmetic operations. Numbers are **operands** and symbols are **operators**. In Python 3.0, the operation 5/2 will give a float. 5//2 give an integer."
   ]
  },
  {
   "cell_type": "markdown",
   "id": "0f9575b1-e49f-4d04-97f2-e7eb09fb8c5c",
   "metadata": {},
   "source": [
    "* #### **Variables** can be used to store values or strings."
   ]
  },
  {
   "cell_type": "markdown",
   "id": "3901c260-e146-4ffa-9b70-5547761a4e34",
   "metadata": {},
   "source": [
    "<hr/>\n",
    "<div class=\"alert alert-success alertsuccess\" style=\"margin-top: 20px\">\n",
    "    [Tip:] <code>sys</code> is a built-in module that contains many system-specific parameters and functions, including the Python version in use. Before using it, we must explictly <code>import</code> it.\n",
    "</div>"
   ]
  },
  {
   "cell_type": "code",
   "execution_count": 31,
   "id": "38d05a40-c130-44b0-83fc-3f0f02e8e394",
   "metadata": {},
   "outputs": [
    {
     "name": "stdout",
     "output_type": "stream",
     "text": [
      "3.10.9 | packaged by Anaconda, Inc. | (main, Mar  1 2023, 18:18:15) [MSC v.1916 64 bit (AMD64)]\n"
     ]
    }
   ],
   "source": [
    "# Check the Python Version\n",
    "\n",
    "import sys\n",
    "print(sys.version)"
   ]
  },
  {
   "cell_type": "markdown",
   "id": "0d0aada3-55f7-45a1-bc10-c3a29c408e29",
   "metadata": {},
   "source": [
    "<hr/>"
   ]
  },
  {
   "cell_type": "markdown",
   "id": "454a340d-93a2-4ac6-a3e9-38e58d343b0b",
   "metadata": {},
   "source": [
    "* #### **String** is a sequence of characters."
   ]
  },
  {
   "cell_type": "markdown",
   "id": "a4804a56-5893-469d-b47b-e98769f9452d",
   "metadata": {},
   "source": [
    "The first character in a string is indexed with 0."
   ]
  },
  {
   "cell_type": "markdown",
   "id": "be8bdeb5-7b96-4f12-9308-00b37cbc0a67",
   "metadata": {},
   "source": [
    "\n",
    "<img src=\"https://cf-courses-data.s3.us.cloud-object-storage.appdomain.cloud/IBMDeveloperSkillsNetwork-PY0101EN-SkillsNetwork/labs/Module%201/images/StringsIndex.png\" width=\"600\" align=\"center\">"
   ]
  },
  {
   "cell_type": "code",
   "execution_count": 1,
   "id": "04e109c9-764a-4f4e-9d7a-ea4c97f77dfa",
   "metadata": {},
   "outputs": [
    {
     "name": "stdout",
     "output_type": "stream",
     "text": [
      "M\n"
     ]
    }
   ],
   "source": [
    "Name = \"Michael Jackson\"\n",
    "print(Name[0])"
   ]
  },
  {
   "cell_type": "markdown",
   "id": "7cf12ab6-6e00-4e3f-ada8-b8b8d1a36ef9",
   "metadata": {},
   "source": [
    "We can also use negative indexing with strings. In this case the last character is indexed with -1\n",
    "\n",
    "<img src=\"https://cf-courses-data.s3.us.cloud-object-storage.appdomain.cloud/IBMDeveloperSkillsNetwork-PY0101EN-SkillsNetwork/labs/Module%201/images/StringsNeg.png\" width=\"600\" align=\"center\">"
   ]
  },
  {
   "cell_type": "code",
   "execution_count": 2,
   "id": "acd94907-caeb-4c52-9be3-a83c3ce56b95",
   "metadata": {},
   "outputs": [
    {
     "name": "stdout",
     "output_type": "stream",
     "text": [
      "n\n"
     ]
    }
   ],
   "source": [
    "Name = \"Michael Jackson\"\n",
    "print(Name[-1])"
   ]
  },
  {
   "cell_type": "markdown",
   "id": "1e0284a4-7074-44e8-8667-4fff3ec791f1",
   "metadata": {},
   "source": [
    "We can treat the string as a sequence and perform sequence operations as slicing:"
   ]
  },
  {
   "cell_type": "code",
   "execution_count": 4,
   "id": "d1d77bb3-8366-4299-8aaa-72cc17fc7a52",
   "metadata": {},
   "outputs": [
    {
     "name": "stdout",
     "output_type": "stream",
     "text": [
      "McalJcsn\n",
      "Mca\n",
      "15\n"
     ]
    }
   ],
   "source": [
    "# Select first and every pair values\n",
    "print(Name[::2])\n",
    "\n",
    "# Select every pair values up to index 5\n",
    "print(Name[0:5:2])\n",
    "\n",
    "# Using 'len' command to obtain the length of a string\n",
    "print(len(Name))"
   ]
  },
  {
   "cell_type": "markdown",
   "id": "b118dd58-dc1a-4e5e-827f-08c338ca5dca",
   "metadata": {},
   "source": [
    "We can concatenate strings. The result is a new string that is a combination of both:"
   ]
  },
  {
   "cell_type": "code",
   "execution_count": 8,
   "id": "ce9202bd-4490-40b6-aa95-e3a06775ca45",
   "metadata": {},
   "outputs": [
    {
     "name": "stdout",
     "output_type": "stream",
     "text": [
      "Michael Jackson is the best\n"
     ]
    }
   ],
   "source": [
    "Name = \"Michael Jackson\"\n",
    "Statement = Name + \" \" + \"is the best\"\n",
    "print(Statement)"
   ]
  },
  {
   "cell_type": "markdown",
   "id": "7aeebd22-79ed-41d7-bf1a-f821fc326a4d",
   "metadata": {},
   "source": [
    "We can replicate values of a string:"
   ]
  },
  {
   "cell_type": "code",
   "execution_count": 9,
   "id": "bd84bded-3af9-41b9-9236-8a106ab8a105",
   "metadata": {},
   "outputs": [
    {
     "name": "stdout",
     "output_type": "stream",
     "text": [
      "Michael JacksonMichael JacksonMichael Jackson\n"
     ]
    }
   ],
   "source": [
    "print(3*Name)"
   ]
  },
  {
   "cell_type": "markdown",
   "id": "f0c2f4e9-b304-48e1-952f-d68a7ce5b61c",
   "metadata": {},
   "source": [
    "Escape sequences are sequences that are difficult to input. We use \\ + some inputs:"
   ]
  },
  {
   "cell_type": "code",
   "execution_count": 45,
   "id": "70e816e5-2862-4a48-96bb-906567ee67ea",
   "metadata": {},
   "outputs": [
    {
     "name": "stdout",
     "output_type": "stream",
     "text": [
      "Michael Jackson \n",
      " is the best\n",
      "Michael \"Jackson\" is the best\n",
      "Michael Jackson \t is the best\n",
      "Michael Jackson \\ is the best\n",
      "Michael Jackson \\ is the best\n"
     ]
    }
   ],
   "source": [
    "# Add space in a string with \\n\n",
    "print(\"Michael Jackson \\n is the best\")\n",
    "\n",
    "# Add quotes in a string with \\\"\n",
    "print(\"Michael \\\"Jackson\\\" is the best\")\n",
    "\n",
    "# Add tab with \\t\n",
    "print(\"Michael Jackson \\t is the best\")\n",
    "\n",
    "# Add a backslash \\ with \\\\. Also placing an \"r\" in front of the string\n",
    "print(\"Michael Jackson \\\\ is the best\")\n",
    "print(r\"Michael Jackson \\ is the best\")"
   ]
  },
  {
   "cell_type": "markdown",
   "id": "56119dbe-560b-4871-a92c-99b9bf0ff768",
   "metadata": {},
   "source": [
    "Strings have a set of methods that just work on strings:"
   ]
  },
  {
   "cell_type": "code",
   "execution_count": 34,
   "id": "832221e0-f2c2-41c1-8083-462f70f9bc9e",
   "metadata": {},
   "outputs": [
    {
     "name": "stdout",
     "output_type": "stream",
     "text": [
      "MICHAEL JACKSON\n",
      "michael jackson\n",
      "Andreu Jackson\n",
      "5\n",
      "8\n",
      "1\n"
     ]
    }
   ],
   "source": [
    "Name = \"Michael Jackson\"\n",
    "\n",
    "# .upper() -> uppercase letters\n",
    "print(Name.upper())\n",
    "\n",
    "# .lower() -> lowercase letters\n",
    "print(Name.lower())\n",
    "\n",
    "# .replace() -> replace characters of a string\n",
    "print(Name.replace(\"Michael\", \"Andreu\"))\n",
    "\n",
    "# .find() -> find substrings. The output is the first index of the sequence\n",
    "print(Name.find('el'))\n",
    "print(Name.find('Jackson'))\n",
    "\n",
    "# .count() -> count identical characters in the string based in the given input\n",
    "print(Name.count('Jackson'))"
   ]
  },
  {
   "cell_type": "markdown",
   "id": "e5d7992d-da14-4bcf-b263-f1c508a13c7d",
   "metadata": {},
   "source": [
    "### RegEx\n",
    "In Python, RegEx (short for Regular Expression) is a tool for matching and handling strings.\n",
    "This RegEx module provides several functions for working with regular expressions, including <code>search, split, findall,</code> and <code>sub</code>.\n",
    "Python provides a built-in module called <code>re</code>, which allows you to work with regular expressions. \n",
    "First, import the <code>re</code> module"
   ]
  },
  {
   "cell_type": "code",
   "execution_count": 28,
   "id": "b0dcbbbe-7459-4fbd-b1b2-7d709b1266d7",
   "metadata": {},
   "outputs": [],
   "source": [
    "import re"
   ]
  },
  {
   "cell_type": "markdown",
   "id": "80811cef-ce54-4b27-af8b-6df24c457067",
   "metadata": {},
   "source": [
    "The <code>search()</code> function searches for specified patterns within a string. Here is an example that explains how to use the search() function to search for the word \"Jackson\" in the string \"Michael Jackson is the best\"."
   ]
  },
  {
   "cell_type": "code",
   "execution_count": 52,
   "id": "7b626a05-a287-4cc0-8eff-08b604646c89",
   "metadata": {},
   "outputs": [
    {
     "name": "stdout",
     "output_type": "stream",
     "text": [
      "Match found!\n",
      "<re.Match object; span=(8, 15), match='Jackson'>\n"
     ]
    }
   ],
   "source": [
    "s1 = \"Michael Jackson is the best\"\n",
    "\n",
    "# Define the pattern to search for\n",
    "pattern = r\"Jackson\"\n",
    "\n",
    "# Use the search() function to search for the pattern in the string\n",
    "result = re.search(pattern, s1)\n",
    "\n",
    "# Check if a match was found\n",
    "if result:\n",
    "    print(\"Match found!\")\n",
    "else:\n",
    "    print(\"Match not found.\")\n",
    "    \n",
    "print(re.search(pattern, Name))"
   ]
  },
  {
   "cell_type": "markdown",
   "id": "233ae2af-220e-46de-bae7-f4a8c7d6feff",
   "metadata": {},
   "source": [
    "Regular expressions (RegEx) are patterns used to match and manipulate strings of text. There are several special sequences in RegEx that can be used to match specific characters or patterns.\n",
    "| Special Sequence | Meaning                 | \tExample             |\n",
    "| -----------  | ----------------------- | ----------------------|\n",
    "| \\d|Matches any digit character (0-9)|\"123\" matches \"\\d\\d\\d\"|\n",
    "|\\D|Matches any non-digit character|\"hello\" matches \"\\D\\D\\D\\D\\D\"|\n",
    "|\\w|Matches any word character (a-z, A-Z, 0-9, and _)|\"hello_world\" matches \"\\w\\w\\w\\w\\w\\w\\w\\w\\w\"|\n",
    "|\\W|Matches any non-word character|\t\"@#$%\" matches \"\\W\\W\\W\\W\"|\n",
    "|\\s|Matches any whitespace character (space, tab, newline, etc.)|\"hello world\" matches \"\\w\\s\\w\\w\\w\\w\\w\"|\n",
    "|\\S|Matches any non-whitespace character|\"hello_world\" matches \"\\S\\S\\S\\S\\S\\S\\S\\S\\S\"|\n",
    "|\\b|Matches the boundary between a word character and a non-word character|\"cat\" matches \"\\bcat\\b\" in \"The cat sat on the mat\"|\n",
    "|\\B|Matches any position that is not a word boundary|\"cat\" matches \"\\Bcat\\B\" in \"category\" but not in \"The cat sat on the mat\"|"
   ]
  },
  {
   "cell_type": "markdown",
   "id": "39d536a9-bd6a-4c2c-a3d2-5cdda0fc8f11",
   "metadata": {},
   "source": [
    "Special Sequence Examples:\n",
    "\n",
    "A simple example of using the <code>\\d</code> special sequence in a regular expression pattern with Python code:"
   ]
  },
  {
   "cell_type": "code",
   "execution_count": 46,
   "id": "6b0be492-dee4-46e4-a43d-e0bcf0cf7f13",
   "metadata": {},
   "outputs": [
    {
     "name": "stdout",
     "output_type": "stream",
     "text": [
      "Phone number found: 1234567890\n"
     ]
    }
   ],
   "source": [
    "pattern = r\"\\d\\d\\d\\d\\d\\d\\d\\d\\d\\d\"  # Matches any ten consecutive digits\n",
    "text = \"My Phone number is 1234567890\"\n",
    "match = re.search(pattern, text)\n",
    "\n",
    "if match:\n",
    "    print(\"Phone number found:\", match.group())\n",
    "else:\n",
    "    print(\"No match\")"
   ]
  },
  {
   "cell_type": "markdown",
   "id": "f70e95ae-7e8b-41ed-a6ba-eda6a4d8a248",
   "metadata": {},
   "source": [
    "The regular expression pattern is defined as r\"\\d\\d\\d\\d\\d\\d\\d\\d\\d\\d\", which uses the \\d special sequence to match any digit character (0-9), and the \\d sequence is repeated ten times to match ten consecutive digits"
   ]
  },
  {
   "cell_type": "markdown",
   "id": "f6c3dff9-c58f-4027-bcce-872c120cfb1b",
   "metadata": {},
   "source": [
    "A simple example of using the <code>\\W</code> special sequence in a regular expression pattern with Python code:"
   ]
  },
  {
   "cell_type": "code",
   "execution_count": 54,
   "id": "4cf6fa6b-433f-425f-9fc0-72d609f71648",
   "metadata": {},
   "outputs": [
    {
     "name": "stdout",
     "output_type": "stream",
     "text": [
      "Matches: [',', ' ', '!']\n"
     ]
    }
   ],
   "source": [
    "pattern = r\"\\W\"  # Matches any non-word character\n",
    "text = \"Hello, world!\"\n",
    "matches = re.findall(pattern, text)\n",
    "\n",
    "print(\"Matches:\", matches)"
   ]
  },
  {
   "cell_type": "markdown",
   "id": "f777be09-0cc2-4ef8-ab7c-0aafbf9f1751",
   "metadata": {},
   "source": [
    "The regular expression pattern is defined as r\"\\W\", which uses the \\W special sequence to match any character that is not a word character (a-z, A-Z, 0-9, or _). The string we're searching for matches in is \"Hello, world!\"."
   ]
  },
  {
   "cell_type": "markdown",
   "id": "77654a1d-82f6-474f-be2a-7bfe8037a3eb",
   "metadata": {},
   "source": [
    "The <code>findall()</code> function finds all occurrences of a specified pattern within a string."
   ]
  },
  {
   "cell_type": "code",
   "execution_count": 50,
   "id": "2f45c789-482a-49da-b809-fae89fd16d4a",
   "metadata": {},
   "outputs": [
    {
     "name": "stdout",
     "output_type": "stream",
     "text": [
      "['as', 'as']\n"
     ]
    }
   ],
   "source": [
    "s2 = \"Michael Jackson was a singer and known as the 'King of Pop'\"\n",
    "\n",
    "\n",
    "# Use the findall() function to find all occurrences of the \"as\" in the string\n",
    "result = re.findall(\"as\", s2)\n",
    "\n",
    "# Print out the list of matched words\n",
    "print(result)"
   ]
  },
  {
   "cell_type": "markdown",
   "id": "a9b39fad-ab5d-4b88-9eaa-d22504a6f1c3",
   "metadata": {},
   "source": [
    "A regular expression's <code>split()</code> function splits a string into an array of substrings based on a specified pattern."
   ]
  },
  {
   "cell_type": "code",
   "execution_count": 51,
   "id": "19a8fed0-42a5-4eaa-b0d9-ea859eff0ebc",
   "metadata": {},
   "outputs": [
    {
     "name": "stdout",
     "output_type": "stream",
     "text": [
      "['Michael', 'Jackson', 'was', 'a', 'singer', 'and', 'known', 'as', 'the', \"'King\", 'of', \"Pop'\"]\n"
     ]
    }
   ],
   "source": [
    "# Use the split function to split the string by the \"\\s\"\n",
    "split_array = re.split(\"\\s\", s2)\n",
    "\n",
    "# The split_array contains all the substrings, split by whitespace characters\n",
    "print(split_array) "
   ]
  },
  {
   "cell_type": "markdown",
   "id": "8bc25086-b746-4ca6-a889-f9eb13fd7a5f",
   "metadata": {},
   "source": [
    "The <code>sub</code> function of a regular expression in Python is used to replace all occurrences of a pattern in a string with a specified replacement."
   ]
  },
  {
   "cell_type": "code",
   "execution_count": 55,
   "id": "4cd912dc-dc23-4f17-a5f0-a665b0be6b20",
   "metadata": {},
   "outputs": [
    {
     "name": "stdout",
     "output_type": "stream",
     "text": [
      "Michael Jackson was a singer and known as the 'legend'\n"
     ]
    }
   ],
   "source": [
    "# Define the regular expression pattern to search for\n",
    "pattern = r\"King of Pop\"\n",
    "\n",
    "# Define the replacement string\n",
    "replacement = \"legend\"\n",
    "\n",
    "# Use the sub function to replace the pattern with the replacement string\n",
    "new_string = re.sub(pattern, replacement, s2, flags=re.IGNORECASE)\n",
    "\n",
    "# The new_string contains the original string with the pattern replaced by the replacement string\n",
    "print(new_string) "
   ]
  },
  {
   "cell_type": "markdown",
   "id": "fd013ab4-d69b-4e28-9b08-a8b784ca9ad0",
   "metadata": {},
   "source": [
    "FALTA QUIZ ON STRINGS"
   ]
  }
 ],
 "metadata": {
  "kernelspec": {
   "display_name": "Python 3 (ipykernel)",
   "language": "python",
   "name": "python3"
  },
  "language_info": {
   "codemirror_mode": {
    "name": "ipython",
    "version": 3
   },
   "file_extension": ".py",
   "mimetype": "text/x-python",
   "name": "python",
   "nbconvert_exporter": "python",
   "pygments_lexer": "ipython3",
   "version": "3.10.9"
  },
  "toc-showmarkdowntxt": false,
  "toc-showtags": false
 },
 "nbformat": 4,
 "nbformat_minor": 5
}
