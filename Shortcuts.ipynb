{
 "cells": [
  {
   "cell_type": "markdown",
   "id": "d1b6aae8-6127-4550-9b87-303fde8114c7",
   "metadata": {},
   "source": [
    "# Jupyter shortcuts"
   ]
  },
  {
   "cell_type": "markdown",
   "id": "e2a954e5-6b91-4dc0-9fa5-ee718146675c",
   "metadata": {},
   "source": [
    "|Atajo|Modo|Acción|\n",
    "|-|-|-|\n",
    "|Esc - m|command|cambiar celda a markdown|\n",
    "|Esc - y|command|cambiar celda a código|\n",
    "|Esc - a|command|insertar celda arriba|\n",
    "|Esc - b|command|insertar celda abajo|\n",
    "|Esc - d - d|command|borrar celda|\n",
    "|Shift + Enter|command|Ejecutar código celda|\n",
    "|Alt + Enter|edit|ejecutar celda e insertar una celda abajo|"
   ]
  },
  {
   "cell_type": "code",
   "execution_count": null,
   "id": "6dcfe9cf-dc9a-4184-9540-41e66aa346cb",
   "metadata": {},
   "outputs": [],
   "source": []
  }
 ],
 "metadata": {
  "kernelspec": {
   "display_name": "Python 3 (ipykernel)",
   "language": "python",
   "name": "python3"
  },
  "language_info": {
   "codemirror_mode": {
    "name": "ipython",
    "version": 3
   },
   "file_extension": ".py",
   "mimetype": "text/x-python",
   "name": "python",
   "nbconvert_exporter": "python",
   "pygments_lexer": "ipython3",
   "version": "3.10.9"
  },
  "toc-autonumbering": false,
  "toc-showcode": true
 },
 "nbformat": 4,
 "nbformat_minor": 5
}
